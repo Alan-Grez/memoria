{
 "cells": [
  {
   "cell_type": "code",
   "execution_count": 1,
   "id": "3cd9db4d",
   "metadata": {},
   "outputs": [],
   "source": [
    "import centralized as CP\n",
    "import davisyin as DY\n",
    "import admm as admm\n",
    "import numpy as np\n",
    "from numpy.linalg import inv\n",
    "from numpy import linalg as LA\n",
    "from numpy.linalg import inv\n",
    "import matplotlib.pyplot as plt\n",
    "import proyecciones as pro\n",
    "import time\n",
    "import briceno as BA"
   ]
  },
  {
   "cell_type": "code",
   "execution_count": 2,
   "id": "1c8e5927",
   "metadata": {},
   "outputs": [],
   "source": [
    "# Seteamos los parámetros:\n",
    "N, M = 3, 5  # Son 2 tecnologías, 10 escenarios.\n",
    "\n",
    "# Probabilidades:\n",
    "\n",
    "Sigma = np.ones((1,M))\n",
    "Sigma /= Sigma.sum()\n",
    "    \n",
    "# Parámetros funciones:\n",
    "I    = 50 * np.ones((N, 1))\n",
    "MC   = np.array([np.diag(1000*np.ones(N)) for m in range(M)])\n",
    "VOLL = 10000.0\n",
    "D    = 1000.0*np.ones((1,M))\n",
    "\n",
    "e1  = VOLL*1.1\n",
    "e2  = VOLL*1.1\n",
    "e31 = VOLL*1.1\n",
    "e32 = VOLL*1.1\n",
    "\n",
    "Q1, B1 = np.zeros((N,N)), I\n",
    "Q2, B2 = 0.01*MC, np.zeros((N,M))\n",
    "Q3, B3 = np.zeros((1,M)), VOLL*np.ones((1,M))\n",
    "    \n",
    "\n",
    "frobenius_norm_of_MC = (e1+e2)*N*0.5+e31+e32+np.array([LA.norm(np.einsum('i,ikl->ikl',Sigma[0],0.01*MC)[xi], 'fro') for xi in range(M)]).sum()\n",
    "\n",
    "def Grad_Phi_1(x1, Q_1 = np.zeros((N,N)), B_1 = I, e1 = e1, N = N):\n",
    "    return np.dot(Q_1,x1)+B_1 - e1*np.dot(np.identity(N),np.maximum(-x1,0))\n",
    "\n",
    "    # me queda e2 * max{0,-x2}\n",
    "def Grad_Phi_2(x2, Q_2 = 0.01*MC, B_2 = np.zeros((N,M)), e2 = e2, N = N, M = M):\n",
    "    \n",
    "    return np.einsum('ijk,ki->ji', Q_2, x2)+B_2 - e2*np.einsum('ijk,ki->ji', np.array([np.diag(np.ones(N)) for m in range(M)]), np.maximum(-x2,0))\n",
    "\n",
    "    # me queda e31 * max{0,-x3} &  e32 * max{0,-D+x3}\n",
    "def Grad_Phi_3(x3, Q_3 = np.zeros((1,M)), B_3 = VOLL*np.ones((1,M)), D=D, e31=e31, e32= e32, M = M):\n",
    "    return Q_3*x3+B_3 - e31*np.dot(np.maximum(-x3,0),np.identity(M)) - e32*np.dot(np.maximum(-D+x3,0),np.identity(M))\n",
    "\n",
    "    \n",
    "def Grad_Phi(x1,x2,x3, P = Sigma):\n",
    "        return Grad_Phi_1(x1), P*Grad_Phi_2(x2), P*Grad_Phi_3(x3)"
   ]
  },
  {
   "cell_type": "code",
   "execution_count": 5,
   "id": "4246bdcf",
   "metadata": {},
   "outputs": [],
   "source": [
    "x1, x2, x3, rho = CP.modelo()\n",
    "\n",
    "DY_list   = DY.Davis_Yin(N, M, frobenius_norm_of_MC, Grad_Phi, 30000, D)\n",
    "ADMM_list = admm.ADMM(30000, N, M, (Q1,B1), (Q2,B2), (Q3,B3), Sigma, D, e1, e2, e31, e32)\n",
    "BA_list   = BA.Briceno_Arias(N, M, 30000, frobenius_norm_of_MC, Grad_Phi, Sigma, D)"
   ]
  },
  {
   "cell_type": "code",
   "execution_count": 16,
   "id": "6f4724e4",
   "metadata": {},
   "outputs": [
    {
     "data": {
      "text/plain": [
       "((array([[375.17505402, 375.17505402, 375.17505402, 375.17505402,\n",
       "          375.17505402],\n",
       "         [375.13569894, 375.13569894, 375.13569894, 375.13569894,\n",
       "          375.13569894],\n",
       "         [374.9402494 , 374.9402494 , 374.9402494 , 374.9402494 ,\n",
       "          374.9402494 ]]),\n",
       "  array([[333.45228472, 333.43613818, 333.43215247, 333.43423558,\n",
       "          333.42474321],\n",
       "         [333.43510781, 333.42305392, 333.42756795, 333.4324792 ,\n",
       "          333.44228891],\n",
       "         [333.41545423, 333.44365466, 333.44312634, 333.43613198,\n",
       "          333.43581464]]),\n",
       "  array([[333.45228472, 333.43613818, 333.43215247, 333.43423558,\n",
       "          333.42474321],\n",
       "         [333.43510781, 333.42305392, 333.42756795, 333.4324792 ,\n",
       "          333.44228891],\n",
       "         [333.41545423, 333.44365466, 333.44312634, 333.43613198,\n",
       "          333.43581464]]),\n",
       "  array([[-0.30284676, -0.30284676, -0.30284676, -0.30284676, -0.30284676]])),\n",
       " 'infactible')"
      ]
     },
     "execution_count": 16,
     "metadata": {},
     "output_type": "execute_result"
    }
   ],
   "source": [
    "BA_list[-1]"
   ]
  },
  {
   "cell_type": "code",
   "execution_count": 26,
   "id": "c24e8bcb",
   "metadata": {},
   "outputs": [],
   "source": [
    "def generate_list(lista, algoritmo, solution, objective_function, Demanda):\n",
    "    \n",
    "    # unpack solution\n",
    "    x1, x2, x3 = map(np.array, solution)\n",
    "\n",
    "    # create a list with index of graphics\n",
    "    iterations = list(range(len(lista)))\n",
    "    \n",
    "    # create list to return\n",
    "    x_solution   = []\n",
    "    Fx_solution  = []\n",
    "    Non_anti_sol = []\n",
    "    equili_solut = []\n",
    "    \n",
    "    \n",
    "    # create arrays for each graph\n",
    "    for x_algo, x_fact in lista:\n",
    "        \n",
    "        if algoritmo == \"DY\":\n",
    "            x1_algo, x2_algo, x3_algo = x_algo\n",
    "            \n",
    "        elif algoritmo == \"ADMM\":\n",
    "            x1_algo, x2_algo, x3_algo = x_algo[0]\n",
    "            \n",
    "        elif algoritmo == \"BA\":\n",
    "            x1_algo, x2_algo, _, x3_algo = x_algo\n",
    "            # x2_algo y _ tienen el mimso valor por componente\n",
    "            \n",
    "    \n",
    "        x_solution.append( LA.norm(x1_algo - x1) + LA.norm(x2_algo - x2.T) + LA.norm(x3_algo - x3) )\n",
    "        Fx_solution.append( objective_function(x1_algo, x2_algo, x3_algo) - objective_function(x1, x2, x3) )\n",
    "        Non_anti_sol.append( LA.norm(x1_algo - np.roll(x1_algo, 1, axis=1)) ) #No aplica a DY\n",
    "        equili_solut.append( LA.norm( x2_algo.sum(axis=0) - (D - x3_algo) ) )\n",
    "            \n",
    "    return iterations, x_solution, Fx_solution, Non_anti_sol, equili_solut"
   ]
  },
  {
   "cell_type": "code",
   "execution_count": 27,
   "id": "5c4d31ff",
   "metadata": {},
   "outputs": [
    {
     "ename": "ValueError",
     "evalue": "operands could not be broadcast together with remapped shapes [original->remapped]: (5,3,3)->(3,5,3) (5,3)->(3,5) ",
     "output_type": "error",
     "traceback": [
      "\u001b[1;31m---------------------------------------------------------------------------\u001b[0m",
      "\u001b[1;31mValueError\u001b[0m                                Traceback (most recent call last)",
      "Cell \u001b[1;32mIn[27], line 1\u001b[0m\n\u001b[1;32m----> 1\u001b[0m \u001b[43mgenerate_list\u001b[49m\u001b[43m(\u001b[49m\u001b[43mDY_list\u001b[49m\u001b[43m,\u001b[49m\u001b[43m \u001b[49m\u001b[38;5;124;43m\"\u001b[39;49m\u001b[38;5;124;43mDY\u001b[39;49m\u001b[38;5;124;43m\"\u001b[39;49m\u001b[43m,\u001b[49m\u001b[43m \u001b[49m\u001b[43m(\u001b[49m\u001b[43mx1\u001b[49m\u001b[43m,\u001b[49m\u001b[43m \u001b[49m\u001b[43mx2\u001b[49m\u001b[43m,\u001b[49m\u001b[43m \u001b[49m\u001b[43mx3\u001b[49m\u001b[43m)\u001b[49m\u001b[43m,\u001b[49m\u001b[43m \u001b[49m\u001b[43mGrad_Phi\u001b[49m\u001b[43m,\u001b[49m\u001b[43m \u001b[49m\u001b[43mD\u001b[49m\u001b[43m)\u001b[49m\n",
      "Cell \u001b[1;32mIn[26], line 31\u001b[0m, in \u001b[0;36mgenerate_list\u001b[1;34m(lista, algoritmo, solution, objective_function, Demanda)\u001b[0m\n\u001b[0;32m     27\u001b[0m     \u001b[38;5;66;03m# x2_algo y _ tienen el mimso valor por componente\u001b[39;00m\n\u001b[0;32m     30\u001b[0m x_solution\u001b[38;5;241m.\u001b[39mappend( LA\u001b[38;5;241m.\u001b[39mnorm(x1_algo \u001b[38;5;241m-\u001b[39m x1) \u001b[38;5;241m+\u001b[39m LA\u001b[38;5;241m.\u001b[39mnorm(x2_algo \u001b[38;5;241m-\u001b[39m x2\u001b[38;5;241m.\u001b[39mT) \u001b[38;5;241m+\u001b[39m LA\u001b[38;5;241m.\u001b[39mnorm(x3_algo \u001b[38;5;241m-\u001b[39m x3) )\n\u001b[1;32m---> 31\u001b[0m Fx_solution\u001b[38;5;241m.\u001b[39mappend( objective_function(x1_algo, x2_algo, x3_algo) \u001b[38;5;241m-\u001b[39m \u001b[43mobjective_function\u001b[49m\u001b[43m(\u001b[49m\u001b[43mx1\u001b[49m\u001b[43m,\u001b[49m\u001b[43m \u001b[49m\u001b[43mx2\u001b[49m\u001b[43m,\u001b[49m\u001b[43m \u001b[49m\u001b[43mx3\u001b[49m\u001b[43m)\u001b[49m )\n\u001b[0;32m     32\u001b[0m Non_anti_sol\u001b[38;5;241m.\u001b[39mappend( LA\u001b[38;5;241m.\u001b[39mnorm(x1_algo \u001b[38;5;241m-\u001b[39m np\u001b[38;5;241m.\u001b[39mroll(x1_algo, \u001b[38;5;241m1\u001b[39m, axis\u001b[38;5;241m=\u001b[39m\u001b[38;5;241m1\u001b[39m)) ) \u001b[38;5;66;03m#No aplica a DY\u001b[39;00m\n\u001b[0;32m     33\u001b[0m equili_solut\u001b[38;5;241m.\u001b[39mappend( LA\u001b[38;5;241m.\u001b[39mnorm( x2_algo\u001b[38;5;241m.\u001b[39msum(axis\u001b[38;5;241m=\u001b[39m\u001b[38;5;241m0\u001b[39m) \u001b[38;5;241m-\u001b[39m (D \u001b[38;5;241m-\u001b[39m x3_algo) ) )\n",
      "Cell \u001b[1;32mIn[2], line 41\u001b[0m, in \u001b[0;36mGrad_Phi\u001b[1;34m(x1, x2, x3, P)\u001b[0m\n\u001b[0;32m     40\u001b[0m \u001b[38;5;28;01mdef\u001b[39;00m \u001b[38;5;21mGrad_Phi\u001b[39m(x1,x2,x3, P \u001b[38;5;241m=\u001b[39m Sigma):\n\u001b[1;32m---> 41\u001b[0m         \u001b[38;5;28;01mreturn\u001b[39;00m Grad_Phi_1(x1), P\u001b[38;5;241m*\u001b[39m\u001b[43mGrad_Phi_2\u001b[49m\u001b[43m(\u001b[49m\u001b[43mx2\u001b[49m\u001b[43m)\u001b[49m, P\u001b[38;5;241m*\u001b[39mGrad_Phi_3(x3)\n",
      "Cell \u001b[1;32mIn[2], line 33\u001b[0m, in \u001b[0;36mGrad_Phi_2\u001b[1;34m(x2, Q_2, B_2, e2, N, M)\u001b[0m\n\u001b[0;32m     31\u001b[0m \u001b[38;5;28;01mdef\u001b[39;00m \u001b[38;5;21mGrad_Phi_2\u001b[39m(x2, Q_2 \u001b[38;5;241m=\u001b[39m \u001b[38;5;241m0.01\u001b[39m\u001b[38;5;241m*\u001b[39mMC, B_2 \u001b[38;5;241m=\u001b[39m np\u001b[38;5;241m.\u001b[39mzeros((N,M)), e2 \u001b[38;5;241m=\u001b[39m e2, N \u001b[38;5;241m=\u001b[39m N, M \u001b[38;5;241m=\u001b[39m M):\n\u001b[1;32m---> 33\u001b[0m     \u001b[38;5;28;01mreturn\u001b[39;00m \u001b[43mnp\u001b[49m\u001b[38;5;241;43m.\u001b[39;49m\u001b[43meinsum\u001b[49m\u001b[43m(\u001b[49m\u001b[38;5;124;43m'\u001b[39;49m\u001b[38;5;124;43mijk,ki->ji\u001b[39;49m\u001b[38;5;124;43m'\u001b[39;49m\u001b[43m,\u001b[49m\u001b[43m \u001b[49m\u001b[43mQ_2\u001b[49m\u001b[43m,\u001b[49m\u001b[43m \u001b[49m\u001b[43mx2\u001b[49m\u001b[43m)\u001b[49m\u001b[38;5;241m+\u001b[39mB_2 \u001b[38;5;241m-\u001b[39m e2\u001b[38;5;241m*\u001b[39mnp\u001b[38;5;241m.\u001b[39meinsum(\u001b[38;5;124m'\u001b[39m\u001b[38;5;124mijk,ki->ji\u001b[39m\u001b[38;5;124m'\u001b[39m, np\u001b[38;5;241m.\u001b[39marray([np\u001b[38;5;241m.\u001b[39mdiag(np\u001b[38;5;241m.\u001b[39mones(N)) \u001b[38;5;28;01mfor\u001b[39;00m m \u001b[38;5;129;01min\u001b[39;00m \u001b[38;5;28mrange\u001b[39m(M)]), np\u001b[38;5;241m.\u001b[39mmaximum(\u001b[38;5;241m-\u001b[39mx2,\u001b[38;5;241m0\u001b[39m))\n",
      "File \u001b[1;32m<__array_function__ internals>:200\u001b[0m, in \u001b[0;36meinsum\u001b[1;34m(*args, **kwargs)\u001b[0m\n",
      "File \u001b[1;32m~\\.conda\\envs\\Memoria\\lib\\site-packages\\numpy\\core\\einsumfunc.py:1371\u001b[0m, in \u001b[0;36meinsum\u001b[1;34m(out, optimize, *operands, **kwargs)\u001b[0m\n\u001b[0;32m   1369\u001b[0m     \u001b[38;5;28;01mif\u001b[39;00m specified_out:\n\u001b[0;32m   1370\u001b[0m         kwargs[\u001b[38;5;124m'\u001b[39m\u001b[38;5;124mout\u001b[39m\u001b[38;5;124m'\u001b[39m] \u001b[38;5;241m=\u001b[39m out\n\u001b[1;32m-> 1371\u001b[0m     \u001b[38;5;28;01mreturn\u001b[39;00m c_einsum(\u001b[38;5;241m*\u001b[39moperands, \u001b[38;5;241m*\u001b[39m\u001b[38;5;241m*\u001b[39mkwargs)\n\u001b[0;32m   1373\u001b[0m \u001b[38;5;66;03m# Check the kwargs to avoid a more cryptic error later, without having to\u001b[39;00m\n\u001b[0;32m   1374\u001b[0m \u001b[38;5;66;03m# repeat default values here\u001b[39;00m\n\u001b[0;32m   1375\u001b[0m valid_einsum_kwargs \u001b[38;5;241m=\u001b[39m [\u001b[38;5;124m'\u001b[39m\u001b[38;5;124mdtype\u001b[39m\u001b[38;5;124m'\u001b[39m, \u001b[38;5;124m'\u001b[39m\u001b[38;5;124morder\u001b[39m\u001b[38;5;124m'\u001b[39m, \u001b[38;5;124m'\u001b[39m\u001b[38;5;124mcasting\u001b[39m\u001b[38;5;124m'\u001b[39m]\n",
      "\u001b[1;31mValueError\u001b[0m: operands could not be broadcast together with remapped shapes [original->remapped]: (5,3,3)->(3,5,3) (5,3)->(3,5) "
     ]
    }
   ],
   "source": [
    "generate_list(DY_list, \"DY\", (x1, x2, x3), Grad_Phi, D)"
   ]
  },
  {
   "cell_type": "code",
   "execution_count": 14,
   "id": "472a211f",
   "metadata": {},
   "outputs": [
    {
     "data": {
      "text/plain": [
       "Text(0.5, 0.98, 'Subtitulo')"
      ]
     },
     "execution_count": 14,
     "metadata": {},
     "output_type": "execute_result"
    },
    {
     "data": {
      "image/png": "[encoded data removed]",
      "text/plain": [
       "<Figure size 640x480 with 4 Axes>"
      ]
     },
     "metadata": {},
     "output_type": "display_data"
    }
   ],
   "source": [
    "fig, ((ax1, ax2), (ax3, ax4)) = plt.subplots(2, 2)\n",
    "fig.suptitle('Subtitulo')\n",
    "\n",
    "\n",
    "ax1.plot(x1, y1, 'o-')\n",
    "ax1.set_ylabel('Damped oscillation')"
   ]
  },
  {
   "cell_type": "markdown",
   "id": "473f6fdf",
   "metadata": {},
   "source": [
    "# Esto es \"X_al - x_CP\""
   ]
  },
  {
   "cell_type": "code",
   "execution_count": null,
   "id": "962b17cc",
   "metadata": {},
   "outputs": [],
   "source": []
  },
  {
   "cell_type": "markdown",
   "id": "4b14db4d",
   "metadata": {},
   "source": [
    "# Esto es \"f(x_al)-f(x_cp)\""
   ]
  },
  {
   "cell_type": "code",
   "execution_count": null,
   "id": "0d789e60",
   "metadata": {},
   "outputs": [],
   "source": []
  },
  {
   "cell_type": "markdown",
   "id": "0a887319",
   "metadata": {},
   "source": [
    "# ||x1_i - x2_i|| (Non Anticipatividad)"
   ]
  },
  {
   "cell_type": "code",
   "execution_count": null,
   "id": "2b81b0ac",
   "metadata": {},
   "outputs": [],
   "source": []
  },
  {
   "cell_type": "markdown",
   "id": "1b2444e3",
   "metadata": {},
   "source": [
    "# || 1I x2 + x3 - D || (Equilibrio)"
   ]
  },
  {
   "cell_type": "code",
   "execution_count": null,
   "id": "336e09ea",
   "metadata": {},
   "outputs": [],
   "source": []
  }
 ],
 "metadata": {
  "kernelspec": {
   "display_name": "Python 3 (ipykernel)",
   "language": "python",
   "name": "python3"
  },
  "language_info": {
   "codemirror_mode": {
    "name": "ipython",
    "version": 3
   },
   "file_extension": ".py",
   "mimetype": "text/x-python",
   "name": "python",
   "nbconvert_exporter": "python",
   "pygments_lexer": "ipython3",
   "version": "3.10.11"
  }
 },
 "nbformat": 4,
 "nbformat_minor": 5
}
